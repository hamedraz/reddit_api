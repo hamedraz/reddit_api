{
 "cells": [
  {
   "cell_type": "code",
   "execution_count": 329,
   "metadata": {},
   "outputs": [],
   "source": [
    "import json\n",
    "import urllib.request"
   ]
  },
  {
   "cell_type": "code",
   "execution_count": 330,
   "metadata": {},
   "outputs": [],
   "source": [
    "NUM_OF_POSTS = 900"
   ]
  },
  {
   "cell_type": "code",
   "execution_count": 331,
   "metadata": {
    "scrolled": false
   },
   "outputs": [],
   "source": [
    "import time\n",
    "hdr = {'User-Agent': 'osx:r/relationships.single.result:v1.0 (by /u/python_machine_learn)'}\n",
    "url = 'https://www.reddit.com/r/relationships/top/.json?sort=top&t=all&limit=100' \n",
    "req = urllib.request.Request(url, headers = hdr)\n",
    "text_data = urllib.request.urlopen(req).read()\n",
    "text_data_json = text_data.decode('utf8')\n",
    "data = list(json.loads(text_data_json).values())\n",
    "posts_all = data[0]['children']\n",
    "while (len(posts_all) < NUM_OF_POSTS):\n",
    "    time.sleep(2)\n",
    "    last = posts_all[-1]['data']['name']\n",
    "    url = 'https://www.reddit.com/r/relationships/top/.json?sort=top&t=all&limit=100&after=%s' % last \n",
    "    req = urllib.request.Request(url, headers = hdr)\n",
    "    text_data = urllib.request.urlopen(req).read()\n",
    "    text_data_json = text_data.decode('utf8')\n",
    "    data = list(json.loads(text_data_json).values())\n",
    "    post = data[0]['children']\n",
    "    posts_all += post"
   ]
  },
  {
   "cell_type": "code",
   "execution_count": 332,
   "metadata": {},
   "outputs": [
    {
     "name": "stdout",
     "output_type": "stream",
     "text": [
      "900\n"
     ]
    }
   ],
   "source": [
    "print(len(posts_all))"
   ]
  },
  {
   "cell_type": "code",
   "execution_count": 343,
   "metadata": {},
   "outputs": [
    {
     "data": {
      "text/plain": [
       "1440187622.0"
      ]
     },
     "execution_count": 343,
     "metadata": {},
     "output_type": "execute_result"
    }
   ],
   "source": [
    "posts_all[0]['data']['created_utc']"
   ]
  },
  {
   "cell_type": "code",
   "execution_count": 340,
   "metadata": {},
   "outputs": [],
   "source": [
    "post_title = []\n",
    "post_flair = []\n",
    "post_date = []\n",
    "post_numComments = []\n",
    "post_score = []"
   ]
  },
  {
   "cell_type": "code",
   "execution_count": 344,
   "metadata": {},
   "outputs": [],
   "source": [
    "for k in range(0, NUM_OF_POSTS):\n",
    "    post_title.append(posts_all[k]['data']['title'])\n",
    "    post_flair.append(posts_all[k]['data']['link_flair_text'])\n",
    "    post_date.append(posts_all[k]['data']['created_utc'])\n",
    "    post_numComments.append(posts_all[k]['data']['num_comments'])\n",
    "    post_score.append(posts_all[k]['data']['title'])"
   ]
  },
  {
   "cell_type": "code",
   "execution_count": 350,
   "metadata": {},
   "outputs": [],
   "source": [
    "import pandas as pd\n",
    "from pandas import DataFrame\n",
    "posts_df = DataFrame({'Date': post_date,\n",
    "                       'Title': post_title,\n",
    "                        'Flair' : post_flair,\n",
    "                        'Comments' : post_numComments,\n",
    "                         'Score' : post_score\n",
    "                     })\n",
    "posts_df = posts_df[['Date', 'Title', 'Flair', 'Comments', 'Score']]"
   ]
  },
  {
   "cell_type": "code",
   "execution_count": 352,
   "metadata": {},
   "outputs": [
    {
     "data": {
      "text/html": [
       "<div>\n",
       "<style>\n",
       "    .dataframe thead tr:only-child th {\n",
       "        text-align: right;\n",
       "    }\n",
       "\n",
       "    .dataframe thead th {\n",
       "        text-align: left;\n",
       "    }\n",
       "\n",
       "    .dataframe tbody tr th {\n",
       "        vertical-align: top;\n",
       "    }\n",
       "</style>\n",
       "<table border=\"1\" class=\"dataframe\">\n",
       "  <thead>\n",
       "    <tr style=\"text-align: right;\">\n",
       "      <th></th>\n",
       "      <th>Date</th>\n",
       "      <th>Title</th>\n",
       "      <th>Flair</th>\n",
       "      <th>Comments</th>\n",
       "      <th>Score</th>\n",
       "    </tr>\n",
       "  </thead>\n",
       "  <tbody>\n",
       "    <tr>\n",
       "      <th>0</th>\n",
       "      <td>1.440188e+09</td>\n",
       "      <td>[UPDATE]My [26 F] with my husband [29 M] 1 yea...</td>\n",
       "      <td>Updates</td>\n",
       "      <td>895</td>\n",
       "      <td>[UPDATE]My [26 F] with my husband [29 M] 1 yea...</td>\n",
       "    </tr>\n",
       "    <tr>\n",
       "      <th>1</th>\n",
       "      <td>1.441197e+09</td>\n",
       "      <td>Me [42F] with my son [15M] - should I have a t...</td>\n",
       "      <td>◉ Locked Post ◉</td>\n",
       "      <td>502</td>\n",
       "      <td>Me [42F] with my son [15M] - should I have a t...</td>\n",
       "    </tr>\n",
       "    <tr>\n",
       "      <th>2</th>\n",
       "      <td>1.472153e+09</td>\n",
       "      <td>UPDATE: I [26f] opened my husband's [32m] snap...</td>\n",
       "      <td>Updates</td>\n",
       "      <td>212</td>\n",
       "      <td>UPDATE: I [26f] opened my husband's [32m] snap...</td>\n",
       "    </tr>\n",
       "    <tr>\n",
       "      <th>3</th>\n",
       "      <td>1.438963e+09</td>\n",
       "      <td>Update: I [30 F] am sitting in the back of my ...</td>\n",
       "      <td>◉ Locked Post ◉</td>\n",
       "      <td>613</td>\n",
       "      <td>Update: I [30 F] am sitting in the back of my ...</td>\n",
       "    </tr>\n",
       "    <tr>\n",
       "      <th>4</th>\n",
       "      <td>1.435026e+09</td>\n",
       "      <td>UPDATE: My fiancee (24F) has no bridesmaids an...</td>\n",
       "      <td>Updates</td>\n",
       "      <td>614</td>\n",
       "      <td>UPDATE: My fiancee (24F) has no bridesmaids an...</td>\n",
       "    </tr>\n",
       "  </tbody>\n",
       "</table>\n",
       "</div>"
      ],
      "text/plain": [
       "           Date                                              Title  \\\n",
       "0  1.440188e+09  [UPDATE]My [26 F] with my husband [29 M] 1 yea...   \n",
       "1  1.441197e+09  Me [42F] with my son [15M] - should I have a t...   \n",
       "2  1.472153e+09  UPDATE: I [26f] opened my husband's [32m] snap...   \n",
       "3  1.438963e+09  Update: I [30 F] am sitting in the back of my ...   \n",
       "4  1.435026e+09  UPDATE: My fiancee (24F) has no bridesmaids an...   \n",
       "\n",
       "             Flair  Comments  \\\n",
       "0          Updates       895   \n",
       "1  ◉ Locked Post ◉       502   \n",
       "2          Updates       212   \n",
       "3  ◉ Locked Post ◉       613   \n",
       "4          Updates       614   \n",
       "\n",
       "                                               Score  \n",
       "0  [UPDATE]My [26 F] with my husband [29 M] 1 yea...  \n",
       "1  Me [42F] with my son [15M] - should I have a t...  \n",
       "2  UPDATE: I [26f] opened my husband's [32m] snap...  \n",
       "3  Update: I [30 F] am sitting in the back of my ...  \n",
       "4  UPDATE: My fiancee (24F) has no bridesmaids an...  "
      ]
     },
     "execution_count": 352,
     "metadata": {},
     "output_type": "execute_result"
    }
   ],
   "source": [
    "posts_df.head()"
   ]
  },
  {
   "cell_type": "code",
   "execution_count": null,
   "metadata": {},
   "outputs": [],
   "source": []
  }
 ],
 "metadata": {
  "kernelspec": {
   "display_name": "Python 3",
   "language": "python",
   "name": "python3"
  },
  "language_info": {
   "codemirror_mode": {
    "name": "ipython",
    "version": 3
   },
   "file_extension": ".py",
   "mimetype": "text/x-python",
   "name": "python",
   "nbconvert_exporter": "python",
   "pygments_lexer": "ipython3",
   "version": "3.4.3"
  }
 },
 "nbformat": 4,
 "nbformat_minor": 2
}
