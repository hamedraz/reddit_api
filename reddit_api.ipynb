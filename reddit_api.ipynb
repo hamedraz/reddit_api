{
 "cells": [
  {
   "cell_type": "markdown",
   "metadata": {},
   "source": [
    "# Part1: Extraction of the data from www.reddit.com and conversion to a pandas data frame\n",
    "##  "
   ]
  },
  {
   "cell_type": "code",
   "execution_count": null,
   "metadata": {},
   "outputs": [],
   "source": [
    "import json\n",
    "import urllib.request\n",
    "from matplotlib import pyplot as plt"
   ]
  },
  {
   "cell_type": "code",
   "execution_count": null,
   "metadata": {},
   "outputs": [],
   "source": [
    "NUM_OF_POSTS = 900"
   ]
  },
  {
   "cell_type": "code",
   "execution_count": null,
   "metadata": {
    "scrolled": false
   },
   "outputs": [],
   "source": [
    "import time\n",
    "hdr = {'User-Agent': 'osx:r/relationships.single.result:v1.0 (by /u/python_machine_learn)'}\n",
    "url = 'https://www.reddit.com/r/relationships/top/.json?sort=top&t=all&limit=100' \n",
    "req = urllib.request.Request(url, headers = hdr)\n",
    "text_data = urllib.request.urlopen(req).read()\n",
    "text_data_json = text_data.decode('utf8')\n",
    "data = list(json.loads(text_data_json).values())\n",
    "posts_all = data[0]['children']\n",
    "while (len(posts_all) < NUM_OF_POSTS):\n",
    "    time.sleep(2)\n",
    "    last = posts_all[-1]['data']['name']\n",
    "    url = 'https://www.reddit.com/r/relationships/top/.json?sort=top&t=all&limit=100&after=%s' % last \n",
    "    req = urllib.request.Request(url, headers = hdr)\n",
    "    text_data = urllib.request.urlopen(req).read()\n",
    "    text_data_json = text_data.decode('utf8')\n",
    "    data = list(json.loads(text_data_json).values())\n",
    "    post = data[0]['children']\n",
    "    posts_all += post"
   ]
  },
  {
   "cell_type": "code",
   "execution_count": null,
   "metadata": {},
   "outputs": [],
   "source": [
    "print(len(posts_all))"
   ]
  },
  {
   "cell_type": "code",
   "execution_count": null,
   "metadata": {},
   "outputs": [],
   "source": [
    "post_title = []\n",
    "post_flair = []\n",
    "post_date = []\n",
    "post_numComments = []\n",
    "post_score = []"
   ]
  },
  {
   "cell_type": "code",
   "execution_count": null,
   "metadata": {},
   "outputs": [],
   "source": [
    "for k in range(0, NUM_OF_POSTS):\n",
    "    post_title.append(posts_all[k]['data']['title'])\n",
    "    post_flair.append(posts_all[k]['data']['link_flair_text'])\n",
    "    post_date.append(posts_all[k]['data']['created_utc'])\n",
    "    post_numComments.append(posts_all[k]['data']['num_comments'])\n",
    "    post_score.append(posts_all[k]['data']['score'])"
   ]
  },
  {
   "cell_type": "code",
   "execution_count": null,
   "metadata": {},
   "outputs": [],
   "source": [
    "import pandas as pd\n",
    "from pandas import DataFrame\n",
    "posts_df = DataFrame({'Date': post_date,\n",
    "                       'Title': post_title,\n",
    "                        'Flair' : post_flair,\n",
    "                        'Comments' : post_numComments,\n",
    "                         'Score' : post_score\n",
    "                     })\n",
    "posts_df = posts_df[['Date', 'Title', 'Flair', 'Comments', 'Score']]"
   ]
  },
  {
   "cell_type": "code",
   "execution_count": null,
   "metadata": {
    "scrolled": true
   },
   "outputs": [],
   "source": [
    "posts_df.head()"
   ]
  },
  {
   "cell_type": "markdown",
   "metadata": {},
   "source": [
    "# Part 2: Cleaning the data\n",
    "## Below we clean the data, and extract some useful information from the title\n",
    "##  "
   ]
  },
  {
   "cell_type": "code",
   "execution_count": null,
   "metadata": {},
   "outputs": [],
   "source": [
    "posts_df['Date'] = pd.to_datetime(posts_df['Date'].values, unit = 's')"
   ]
  },
  {
   "cell_type": "code",
   "execution_count": null,
   "metadata": {},
   "outputs": [],
   "source": [
    "posts_df.head()"
   ]
  },
  {
   "cell_type": "code",
   "execution_count": null,
   "metadata": {},
   "outputs": [],
   "source": [
    "posts_df['Flair'][1] == '◉ Locked Post ◉'"
   ]
  },
  {
   "cell_type": "code",
   "execution_count": null,
   "metadata": {},
   "outputs": [],
   "source": [
    "import numpy as np\n",
    "replace_value = posts_df['Flair'][1]\n",
    "posts_df['Flair'] = posts_df['Flair'].replace(replace_value, np.nan)"
   ]
  },
  {
   "cell_type": "code",
   "execution_count": null,
   "metadata": {},
   "outputs": [],
   "source": [
    "posts_df.head()"
   ]
  },
  {
   "cell_type": "code",
   "execution_count": null,
   "metadata": {},
   "outputs": [],
   "source": [
    "posts_df['Flair'].isnull().sum()"
   ]
  },
  {
   "cell_type": "code",
   "execution_count": null,
   "metadata": {},
   "outputs": [],
   "source": [
    "import re\n",
    "cond1 = posts_df['Title'].str.contains('^\\[?[a-z!?A-Z ]*UPDATE\\]?:?', flags = re.IGNORECASE)\n",
    "cond2 = posts_df['Flair'].isnull()\n",
    "posts_df.loc[(cond1 & cond2), 'Flair'] = posts_df.loc[(cond1 & cond2), 'Flair'].replace(np.nan, 'Updates')"
   ]
  },
  {
   "cell_type": "code",
   "execution_count": null,
   "metadata": {},
   "outputs": [],
   "source": [
    "posts_df.head()"
   ]
  },
  {
   "cell_type": "code",
   "execution_count": null,
   "metadata": {},
   "outputs": [],
   "source": [
    "poster_age_gender = posts_df['Title'].str.extract(\"((i\\'m|i|my|me)\\s?(\\[|\\()(m|f)?(\\s|/)?[0-9]{1,2}(\\s|/)?([m,f]|male|female)?(\\]|\\)))\", flags = re.IGNORECASE)[0]\n",
    "poster_age_gender.head()"
   ]
  },
  {
   "cell_type": "code",
   "execution_count": null,
   "metadata": {},
   "outputs": [],
   "source": [
    "poster_age_gender = poster_age_gender.str.replace(\"((i\\'m|i|my|me))\\s?\", \"\", flags = re.IGNORECASE)"
   ]
  },
  {
   "cell_type": "code",
   "execution_count": null,
   "metadata": {},
   "outputs": [],
   "source": [
    "poster_age = poster_age_gender.str.extract('([0-9]{1,2})')\n",
    "poster_gender = poster_age_gender.str.extract('([m,f])', flags = re.IGNORECASE)"
   ]
  },
  {
   "cell_type": "code",
   "execution_count": null,
   "metadata": {},
   "outputs": [],
   "source": [
    "posts_df['Poster Age'] = pd.to_numeric(poster_age)\n",
    "posts_df['Poster Gender'] = poster_gender.str.upper()"
   ]
  },
  {
   "cell_type": "code",
   "execution_count": null,
   "metadata": {},
   "outputs": [],
   "source": [
    "posts_df.head()"
   ]
  },
  {
   "cell_type": "code",
   "execution_count": null,
   "metadata": {},
   "outputs": [],
   "source": [
    "posts_df['Poster Age'].isnull().sum()"
   ]
  },
  {
   "cell_type": "code",
   "execution_count": null,
   "metadata": {},
   "outputs": [],
   "source": [
    "posts_df['Poster Gender'].isnull().sum()"
   ]
  },
  {
   "cell_type": "code",
   "execution_count": null,
   "metadata": {},
   "outputs": [],
   "source": [
    "posts_df['Day'] = posts_df['Date'].dt.dayofweek"
   ]
  },
  {
   "cell_type": "code",
   "execution_count": null,
   "metadata": {
    "scrolled": true
   },
   "outputs": [],
   "source": [
    "days = {0: 'Mon', 1: 'Tues', 2: 'Weds', 3: 'Thurs', 4: 'Fri',\n",
    "        5: 'Sat', 6: 'Sun'}\n",
    "posts_df['Day'] = posts_df['Day'].map(days)\n",
    "posts_df.head()"
   ]
  },
  {
   "cell_type": "markdown",
   "metadata": {},
   "source": [
    "# Part 3: Describing (Statistical Analysis of) the data\n",
    "##  Age Distribution"
   ]
  },
  {
   "cell_type": "code",
   "execution_count": null,
   "metadata": {},
   "outputs": [],
   "source": [
    "posts_df['Poster Age'].describe()"
   ]
  },
  {
   "cell_type": "code",
   "execution_count": null,
   "metadata": {},
   "outputs": [],
   "source": [
    "poster_age_not_null = posts_df.loc[posts_df['Poster Age'].notnull(), 'Poster Age']\n",
    "plt.hist(poster_age_not_null)\n",
    "plt.show()"
   ]
  },
  {
   "cell_type": "code",
   "execution_count": null,
   "metadata": {},
   "outputs": [],
   "source": [
    "poster_age_not_null_female = posts_df.loc[(posts_df['Poster Gender'] == 'F'), 'Poster Age']\n",
    "poster_age_not_null_female.mean()"
   ]
  },
  {
   "cell_type": "code",
   "execution_count": null,
   "metadata": {},
   "outputs": [],
   "source": [
    "poster_age_not_null_male =posts_df.loc[(posts_df['Poster Gender'] == 'M'), 'Poster Age']\n",
    "poster_age_not_null_male.mean()"
   ]
  },
  {
   "cell_type": "markdown",
   "metadata": {},
   "source": [
    "## Distribution of the days of the week of the post"
   ]
  },
  {
   "cell_type": "code",
   "execution_count": null,
   "metadata": {},
   "outputs": [],
   "source": [
    "days_to_nums = {'Mon' : 0, 'Tues' : 1, 'Weds' : 2, 'Thurs' : 3, 'Fri' : 4,\n",
    "        'Sat' : 5, 'Sun' : 6}\n",
    "post_day_of_week = posts_df['Day'].map(days_to_nums)\n",
    "post_day_of_week_not_null = post_day_of_week.loc[post_day_of_week.notnull()]\n",
    "plt.hist(post_day_of_week_not_null)\n",
    "plt.show()"
   ]
  },
  {
   "cell_type": "markdown",
   "metadata": {},
   "source": [
    "## Distribution of the gender"
   ]
  },
  {
   "cell_type": "code",
   "execution_count": null,
   "metadata": {},
   "outputs": [],
   "source": [
    "posts_df['Poster Gender'].value_counts()"
   ]
  },
  {
   "cell_type": "markdown",
   "metadata": {},
   "source": [
    "## Gender percentage "
   ]
  },
  {
   "cell_type": "code",
   "execution_count": null,
   "metadata": {},
   "outputs": [],
   "source": [
    "100 * posts_df['Poster Gender'].value_counts() / posts_df['Poster Gender'].notnull().sum()"
   ]
  },
  {
   "cell_type": "code",
   "execution_count": null,
   "metadata": {},
   "outputs": [],
   "source": [
    "plt.hist(posts_df.loc[posts_df['Poster Gender'].notnull(), 'Poster Gender'])\n",
    "plt.show()"
   ]
  },
  {
   "cell_type": "markdown",
   "metadata": {},
   "source": [
    "## Distribution of Flairs"
   ]
  },
  {
   "cell_type": "code",
   "execution_count": null,
   "metadata": {},
   "outputs": [],
   "source": [
    "posts_df['Flair'].value_counts()"
   ]
  },
  {
   "cell_type": "code",
   "execution_count": null,
   "metadata": {},
   "outputs": [],
   "source": [
    "100 * posts_df['Flair'].value_counts() / posts_df['Flair'].notnull().sum()"
   ]
  },
  {
   "cell_type": "markdown",
   "metadata": {},
   "source": [
    "## Distribution of Comments"
   ]
  },
  {
   "cell_type": "code",
   "execution_count": null,
   "metadata": {},
   "outputs": [],
   "source": [
    "posts_df['Comments'].describe()"
   ]
  },
  {
   "cell_type": "code",
   "execution_count": null,
   "metadata": {},
   "outputs": [],
   "source": [
    "plt.hist(posts_df['Comments'])\n",
    "plt.show()"
   ]
  },
  {
   "cell_type": "markdown",
   "metadata": {},
   "source": [
    "## Distribution of scores"
   ]
  },
  {
   "cell_type": "code",
   "execution_count": null,
   "metadata": {},
   "outputs": [],
   "source": [
    "posts_df['Score'].describe()"
   ]
  },
  {
   "cell_type": "code",
   "execution_count": null,
   "metadata": {},
   "outputs": [],
   "source": [
    "plt.hist(posts_df['Score'])\n",
    "plt.show()"
   ]
  },
  {
   "cell_type": "code",
   "execution_count": null,
   "metadata": {
    "scrolled": false
   },
   "outputs": [],
   "source": [
    "print(posts_all[7]['data']['title'])\n",
    "print('-----------------------------------')\n",
    "print(posts_all[7]['data']['selftext'])"
   ]
  },
  {
   "cell_type": "code",
   "execution_count": null,
   "metadata": {},
   "outputs": [],
   "source": []
  }
 ],
 "metadata": {
  "kernelspec": {
   "display_name": "Python 3",
   "language": "python",
   "name": "python3"
  },
  "language_info": {
   "codemirror_mode": {
    "name": "ipython",
    "version": 3
   },
   "file_extension": ".py",
   "mimetype": "text/x-python",
   "name": "python",
   "nbconvert_exporter": "python",
   "pygments_lexer": "ipython3",
   "version": "3.4.3"
  }
 },
 "nbformat": 4,
 "nbformat_minor": 2
}
