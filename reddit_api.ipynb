{
 "cells": [
  {
   "cell_type": "code",
   "execution_count": null,
   "metadata": {},
   "outputs": [],
   "source": [
    "import json\n",
    "import urllib.request"
   ]
  },
  {
   "cell_type": "code",
   "execution_count": null,
   "metadata": {},
   "outputs": [],
   "source": [
    "NUM_OF_POSTS = 900"
   ]
  },
  {
   "cell_type": "code",
   "execution_count": null,
   "metadata": {
    "scrolled": false
   },
   "outputs": [],
   "source": [
    "import time\n",
    "hdr = {'User-Agent': 'osx:r/relationships.single.result:v1.0 (by /u/python_machine_learn)'}\n",
    "url = 'https://www.reddit.com/r/relationships/top/.json?sort=top&t=all&limit=100' \n",
    "req = urllib.request.Request(url, headers = hdr)\n",
    "text_data = urllib.request.urlopen(req).read()\n",
    "text_data_json = text_data.decode('utf8')\n",
    "data = list(json.loads(text_data_json).values())\n",
    "posts_all = data[0]['children']\n",
    "while (len(posts_all) < NUM_OF_POSTS):\n",
    "    time.sleep(2)\n",
    "    last = posts_all[-1]['data']['name']\n",
    "    url = 'https://www.reddit.com/r/relationships/top/.json?sort=top&t=all&limit=100&after=%s' % last \n",
    "    req = urllib.request.Request(url, headers = hdr)\n",
    "    text_data = urllib.request.urlopen(req).read()\n",
    "    text_data_json = text_data.decode('utf8')\n",
    "    data = list(json.loads(text_data_json).values())\n",
    "    post = data[0]['children']\n",
    "    posts_all += post"
   ]
  },
  {
   "cell_type": "code",
   "execution_count": null,
   "metadata": {},
   "outputs": [],
   "source": [
    "print(len(posts_all))"
   ]
  },
  {
   "cell_type": "code",
   "execution_count": null,
   "metadata": {},
   "outputs": [],
   "source": [
    "post_title = []\n",
    "post_flair = []\n",
    "post_date = []\n",
    "post_numComments = []\n",
    "post_score = []"
   ]
  },
  {
   "cell_type": "code",
   "execution_count": null,
   "metadata": {},
   "outputs": [],
   "source": [
    "for k in range(0, NUM_OF_POSTS):\n",
    "    post_title.append(posts_all[k]['data']['title'])\n",
    "    post_flair.append(posts_all[k]['data']['link_flair_text'])\n",
    "    post_date.append(posts_all[k]['data']['created_utc'])\n",
    "    post_numComments.append(posts_all[k]['data']['num_comments'])\n",
    "    post_score.append(posts_all[k]['data']['score'])"
   ]
  },
  {
   "cell_type": "code",
   "execution_count": null,
   "metadata": {},
   "outputs": [],
   "source": [
    "import pandas as pd\n",
    "from pandas import DataFrame\n",
    "posts_df = DataFrame({'Date': post_date,\n",
    "                       'Title': post_title,\n",
    "                        'Flair' : post_flair,\n",
    "                        'Comments' : post_numComments,\n",
    "                         'Score' : post_score\n",
    "                     })\n",
    "posts_df = posts_df[['Date', 'Title', 'Flair', 'Comments', 'Score']]"
   ]
  },
  {
   "cell_type": "code",
   "execution_count": null,
   "metadata": {},
   "outputs": [],
   "source": [
    "posts_df.head()"
   ]
  },
  {
   "cell_type": "code",
   "execution_count": null,
   "metadata": {},
   "outputs": [],
   "source": []
  }
 ],
 "metadata": {
  "kernelspec": {
   "display_name": "Python 3",
   "language": "python",
   "name": "python3"
  },
  "language_info": {
   "codemirror_mode": {
    "name": "ipython",
    "version": 3
   },
   "file_extension": ".py",
   "mimetype": "text/x-python",
   "name": "python",
   "nbconvert_exporter": "python",
   "pygments_lexer": "ipython3",
   "version": "3.4.3"
  }
 },
 "nbformat": 4,
 "nbformat_minor": 2
}
